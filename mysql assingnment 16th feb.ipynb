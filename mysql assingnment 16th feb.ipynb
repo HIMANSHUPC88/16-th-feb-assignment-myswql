{
 "cells": [
  {
   "cell_type": "code",
   "execution_count": null,
   "id": "18261311-3569-4021-ab43-3a5ddddb67be",
   "metadata": {},
   "outputs": [],
   "source": [
    "Q1. What is a database? Differentiate between SQL and NoSQL databases.\n",
    "Answer: A Database is a organized collection of structured information or data. SQL is a programming language that is used to create and manage databases.\n",
    "and NoSQL is a type of database that is not based on SQL. "
   ]
  },
  {
   "cell_type": "code",
   "execution_count": null,
   "id": "8fec03dc-567f-4de7-8534-4784d4189116",
   "metadata": {},
   "outputs": [],
   "source": [
    "Q2. What is DDL? Explain why CREATE, DROP, ALTER, and TRUNCATE are used with an example.\n",
    "Answer: \n",
    "DDL stands for Data defination language.\n",
    "DDL is used to create , modify and delete data in a database.\n",
    "CREATE is used to create a new table in a database,\n",
    "DROP is used to delete a table in a database,\n",
    "ALTER is used to modify a table in a database and\n",
    "TRUNCATE is used to create a new table in a database.\n",
    "\n",
    "#CREATE\n",
    "\n",
    "CREATE TABLE Student_info\n",
    "(\n",
    "College_Id number(2),\n",
    "College_name varchar(30),\n",
    "Branch varchar(10)\n",
    ");\n",
    "\n",
    "#ALTER\n",
    "\n",
    "ALTER ALTER Student_info\n",
    "ADD CGPA number;\n",
    "\n",
    "#TRUCNCATE\n",
    "\n",
    "TRUNCATE TABLE Student_info;\n",
    "\n",
    "#DROP\n",
    "\n",
    "DROP TABLE Student_info;\n"
   ]
  },
  {
   "cell_type": "code",
   "execution_count": null,
   "id": "f55436e1-df6f-48d4-bf47-8d7032300872",
   "metadata": {},
   "outputs": [],
   "source": [
    "Q3. What is DML? Explain INSERT, UPDATE, and DELETE with an example.\n",
    "Answer:\n",
    "DML stands for Data manipulation language.\n",
    "DML is used to insert, update and delete data in a database.\n",
    "INSERT is used to insert data in a table,\n",
    "UPDATE is used to update data in a table and\n",
    "DELETE is used to delte data in a table.\n",
    "\n",
    "#INSERT\n",
    "INSERT INTO students('stu_id' int, 'stu_name',varchar(20),\n",
    "'city' varchar(20))\n",
    "VALUES('1','Nirmit','Gorakhpur');\n",
    "\n",
    "#UPDATE \n",
    "UPDATE students\n",
    "SET due_fees = 200000\n",
    "WHERE stu_name = 'Nirmit';\n",
    "\n",
    "#DELETE\n",
    "DELETE FROM students\n",
    "WHERE stu_id = '001';"
   ]
  },
  {
   "cell_type": "code",
   "execution_count": null,
   "id": "27fcb234-76a3-45df-b4f5-88b3e8437f5d",
   "metadata": {},
   "outputs": [],
   "source": [
    "Q4. What is DQL? Explain SELECT with an example.\n",
    "Answer:\n",
    "DQL stands for Data querry language.\n",
    "DQL is used to select data from a database.\n",
    "SELECT is used to retrieve data from a database."
   ]
  },
  {
   "cell_type": "code",
   "execution_count": null,
   "id": "e04ab522-9819-4861-9850-9e5b90369bfc",
   "metadata": {},
   "outputs": [],
   "source": [
    "Q5. Explain Primary Key and Foreign Key.\n",
    "answer:\n",
    "Primary key is a column that is used to identify a row in a table.\n",
    "Foreign key is a column that is used to identify a row in another table."
   ]
  },
  {
   "cell_type": "code",
   "execution_count": null,
   "id": "55266287-fb37-44a4-ac75-210aca280fd6",
   "metadata": {},
   "outputs": [],
   "source": [
    "Q6. Write a python code to connect MySQL to python.\n",
    "Explain the cursor() and execute() method.\n",
    "Answer:\n",
    "import mysql.connector\n",
    "mydb = mylsql.connector.connect(\n",
    "host = \"localhost\",\n",
    "user = \"abc\",\n",
    "password = \"password\",\n",
    ")\n",
    "print(mydb)\n",
    "mycursor = mydb.cursor()\n",
    "mycursor.execute(\"SHOW DATABASES\")\n",
    "for x in mycursor:\n",
    "    print(x)\n",
    "    \n",
    "the cursor() method is used to get the cursor object.\n",
    "the execute() method is used to execute the query."
   ]
  },
  {
   "cell_type": "code",
   "execution_count": null,
   "id": "41c4d435-c1df-4ce6-aa0f-1495bb185a36",
   "metadata": {},
   "outputs": [],
   "source": [
    "Q7. Give the order of execution of SQL clauses in an SQL query.\n",
    "Answer:Order of execution of SQL clauses in an SQL query is as follows:\n",
    "1.FROM - Choose and join tables to get base data.\n",
    "2.WHERE - filters base data. \n",
    "3.GROUP BY - Aggregates the base data.\n",
    "4.HAVING - Filters the aggregate data \n",
    "5.SELECT - R\n",
    "6.ORDER BY -\n",
    "7.LIMIT -"
   ]
  }
 ],
 "metadata": {
  "kernelspec": {
   "display_name": "Python 3 (ipykernel)",
   "language": "python",
   "name": "python3"
  },
  "language_info": {
   "codemirror_mode": {
    "name": "ipython",
    "version": 3
   },
   "file_extension": ".py",
   "mimetype": "text/x-python",
   "name": "python",
   "nbconvert_exporter": "python",
   "pygments_lexer": "ipython3",
   "version": "3.10.8"
  }
 },
 "nbformat": 4,
 "nbformat_minor": 5
}
